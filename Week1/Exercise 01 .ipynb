{
 "cells": [
  {
   "cell_type": "code",
   "execution_count": 1,
   "metadata": {},
   "outputs": [
    {
     "data": {
      "text/plain": [
       "['Hans', 'Holger']"
      ]
     },
     "execution_count": 1,
     "metadata": {},
     "output_type": "execute_result"
    }
   ],
   "source": [
    "names = [\"Matias\", \"Emil\",\"Hans\", \"Karl\", \"Jesper\", \"Holger\"]\n",
    "hSort = [name for name in names if name[0][0] == \"H\"]\n",
    "hSort"
   ]
  },
  {
   "cell_type": "code",
   "execution_count": null,
   "metadata": {},
   "outputs": [],
   "source": [
    "powerOfThree = [num**3 for num in range(0, 101)]\n",
    "powerOfThree"
   ]
  },
  {
   "cell_type": "code",
   "execution_count": null,
   "metadata": {},
   "outputs": [],
   "source": [
    "tuples = [(len(name), name) for name in names]\n",
    "tuples"
   ]
  },
  {
   "cell_type": "code",
   "execution_count": null,
   "metadata": {},
   "outputs": [],
   "source": [
    "mixed = \"a1b2c3d4e5\"\n",
    "numList = [char for char in mixed if char.isdigit()]\n",
    "numList"
   ]
  },
  {
   "cell_type": "code",
   "execution_count": null,
   "metadata": {},
   "outputs": [],
   "source": [
    "dice = set([(a, b) for a in range(1, 7) for b in range(1, 7)])\n",
    "dice"
   ]
  },
  {
   "cell_type": "code",
   "execution_count": 4,
   "metadata": {},
   "outputs": [
    {
     "data": {
      "text/plain": [
       "{('Emil', 4),\n",
       " ('Hans', 4),\n",
       " ('Holger', 6),\n",
       " ('Jesper', 6),\n",
       " ('Karl', 4),\n",
       " ('Matias', 6)}"
      ]
     },
     "execution_count": 4,
     "metadata": {},
     "output_type": "execute_result"
    }
   ],
   "source": [
    "dictionary = {(name, len(name)) for name in names}\n",
    "dictionary"
   ]
  },
  {
   "cell_type": "code",
   "execution_count": 13,
   "metadata": {},
   "outputs": [
    {
     "data": {
      "text/plain": [
       "{(9, 3.0), (36, 6.0), (64, 8.0), (256, 16.0), (1024, 32.0)}"
      ]
     },
     "execution_count": 13,
     "metadata": {},
     "output_type": "execute_result"
    }
   ],
   "source": [
    "import math\n",
    "numbers = [9, 36, 64, 256, 1024]\n",
    "rootdic = {(num, math.sqrt(num)) for num in numbers}\n",
    "rootdic"
   ]
  },
  {
   "cell_type": "code",
   "execution_count": 9,
   "metadata": {},
   "outputs": [
    {
     "data": {
      "text/plain": [
       "{(2, 2.7777777777777777),\n",
       " (3, 5.555555555555555),\n",
       " (4, 8.333333333333332),\n",
       " (5, 11.11111111111111),\n",
       " (6, 13.88888888888889),\n",
       " (7, 16.666666666666664),\n",
       " (8, 13.88888888888889),\n",
       " (9, 11.11111111111111),\n",
       " (10, 8.333333333333332),\n",
       " (11, 5.555555555555555),\n",
       " (12, 2.7777777777777777)}"
      ]
     },
     "execution_count": 9,
     "metadata": {},
     "output_type": "execute_result"
    }
   ],
   "source": [
    "outcomes = [(a + b) for a in range(1, 7) for b in range(1, 7)]\n",
    "chance = {(num, outcomes.count(num) / 36 * 100) for num in outcomes}\n",
    "chance"
   ]
  },
  {
   "cell_type": "code",
   "execution_count": null,
   "metadata": {},
   "outputs": [],
   "source": []
  }
 ],
 "metadata": {
  "kernelspec": {
   "display_name": "Python 3",
   "language": "python",
   "name": "python3"
  },
  "language_info": {
   "codemirror_mode": {
    "name": "ipython",
    "version": 3
   },
   "file_extension": ".py",
   "mimetype": "text/x-python",
   "name": "python",
   "nbconvert_exporter": "python",
   "pygments_lexer": "ipython3",
   "version": "3.7.4"
  }
 },
 "nbformat": 4,
 "nbformat_minor": 2
}
